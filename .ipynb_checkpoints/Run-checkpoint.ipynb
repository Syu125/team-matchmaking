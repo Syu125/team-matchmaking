{
 "cells": [
  {
   "cell_type": "code",
   "execution_count": 16,
   "id": "9d73c024-041b-46c2-87c9-5e97dbec5d4c",
   "metadata": {},
   "outputs": [],
   "source": [
    "import os\n",
    "os.environ[\"MPLBACKEND\"] = \"agg\""
   ]
  },
  {
   "cell_type": "code",
   "execution_count": 42,
   "id": "bc516878-86ed-4fad-9f45-d00ee8a2ce71",
   "metadata": {},
   "outputs": [
    {
     "name": "stdout",
     "output_type": "stream",
     "text": [
      "BGE Evaluations:\n",
      "Average Intra-Cluster Cosine Similarity: 0.9400\n",
      "Jaccard Similarity for Weaknesses: 0.3242\n",
      "\n",
      "NGram Evaluations:\n",
      "Average Intra-Cluster Cosine Similarity: 0.5087\n",
      "Jaccard Similarity for Weaknesses: 0.3723\n",
      "\n",
      "SBERT Evaluations:\n",
      "Average Intra-Cluster Cosine Similarity: 0.6544\n",
      "Jaccard Similarity for Weaknesses: 0.3789\n",
      "\n",
      "Word2Vec Evaluations:\n",
      "Average Intra-Cluster Cosine Similarity: 0.9998\n",
      "Jaccard Similarity for Weaknesses: 0.3549\n",
      "\n",
      "Saving plot...\n",
      "Plot saved\n"
     ]
    },
    {
     "name": "stderr",
     "output_type": "stream",
     "text": [
      "[nltk_data] Downloading package punkt_tab to\n",
      "[nltk_data]     C:\\Users\\yusop\\AppData\\Roaming\\nltk_data...\n",
      "[nltk_data]   Package punkt_tab is already up-to-date!\n",
      "[nltk_data] Downloading package stopwords to\n",
      "[nltk_data]     C:\\Users\\yusop\\AppData\\Roaming\\nltk_data...\n",
      "[nltk_data]   Package stopwords is already up-to-date!\n",
      "C:\\Users\\yusop\\Desktop\\CSE156\\team-matchmaking\\venv\\Lib\\site-packages\\sentence_transformers\\SentenceTransformer.py:587: FutureWarning: Series.__getitem__ treating keys as positions is deprecated. In a future version, integer keys will always be treated as labels (consistent with DataFrame behavior). To access a value by position, use `ser.iloc[pos]`\n",
      "  sentences_sorted = [sentences[idx] for idx in length_sorted_idx]\n"
     ]
    }
   ],
   "source": [
    "!python evaluation.py"
   ]
  },
  {
   "cell_type": "code",
   "execution_count": null,
   "id": "13a66639-1f2c-40dd-9b8e-ee55a2354636",
   "metadata": {},
   "outputs": [],
   "source": []
  }
 ],
 "metadata": {
  "kernelspec": {
   "display_name": "Python 3 (ipykernel)",
   "language": "python",
   "name": "python3"
  },
  "language_info": {
   "codemirror_mode": {
    "name": "ipython",
    "version": 3
   },
   "file_extension": ".py",
   "mimetype": "text/x-python",
   "name": "python",
   "nbconvert_exporter": "python",
   "pygments_lexer": "ipython3",
   "version": "3.11.0"
  }
 },
 "nbformat": 4,
 "nbformat_minor": 5
}
